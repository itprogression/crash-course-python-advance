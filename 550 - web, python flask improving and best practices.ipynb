{
 "cells": [
  {
   "cell_type": "markdown",
   "id": "3ef1471c",
   "metadata": {},
   "source": [
    "# Flask improving and best practices"
   ]
  },
  {
   "cell_type": "markdown",
   "id": "da19ca5c",
   "metadata": {},
   "source": [
    "## Para migrar tu aplicación Flask a Docker y Nginx, puedes seguir los siguientes pasos:\n",
    "\n",
    "1. Crear un archivo Dockerfile en la raíz de tu proyecto Flask. Este archivo contendrá las instrucciones para construir tu imagen de Docker. A continuación se muestra un ejemplo de Dockerfile:\n",
    "\n",
    "``` Dockerfile\n",
    "# seleccion de la imagen base\n",
    "FROM python:3.9-slim-buster\n",
    "\n",
    "# alteracion de la imagen base\n",
    "# Install y configuracion base de nginx para funcionar solo en http\n",
    "RUN apt-get update && \\\n",
    "    apt-get install -y nginx\n",
    "\n",
    "# Remove the default Nginx configuration file\n",
    "RUN rm /etc/nginx/sites-enabled/default\n",
    "\n",
    "# Copy the custom Nginx configuration file\n",
    "COPY nginx.conf /etc/nginx/sites-enabled/\n",
    "\n",
    "# deploy app inside docker.\n",
    "# nunca dejar credenciales dentro de un docker\n",
    "WORKDIR /app\n",
    "COPY requirements.txt .\n",
    "RUN pip install -r requirements.txt\n",
    "COPY . .\n",
    "\n",
    "# inicio del webservice\n",
    "CMD [\"gunicorn\", \"--bind\", \"0.0.0.0:5000\", \"app:app\"]\n",
    "```\n",
    "\n",
    "2. Crear un archivo de configuración para Nginx. Este archivo definirá cómo Nginx manejará las solicitudes HTTP que se envían a tu aplicación. A continuación se muestra un ejemplo de archivo de configuración de Nginx:\n",
    "\n",
    "``` nginx.conf\n",
    "server {\n",
    "    listen 80;\n",
    "    server_name example.com;\n",
    "\n",
    "    location / {\n",
    "        proxy_pass http://web:5000;\n",
    "        proxy_set_header Host $host;\n",
    "        proxy_set_header X-Real-IP $remote_addr;\n",
    "    }\n",
    "}\n",
    "```\n",
    "\n",
    "3. Crear un archivo docker-compose.yml en la raíz de tu proyecto. Este archivo contendrá la configuración para tu contenedor Docker. A continuación se muestra un ejemplo de docker-compose.yml:\n",
    "\n",
    "\n",
    "``` docker-compose.yml\n",
    "version: '3'\n",
    "\n",
    "services:\n",
    "  web:\n",
    "    build: .\n",
    "    ports:\n",
    "      - \"80:80\"\n",
    "    environment:\n",
    "      - DEBUG=False\n",
    "    depends_on:\n",
    "      - db\n",
    "  db:\n",
    "    image: postgres\n",
    "    environment:\n",
    "      POSTGRES_USER: postgres\n",
    "      POSTGRES_PASSWORD: example\n",
    "```\n",
    "\n",
    "\n"
   ]
  }
 ],
 "metadata": {
  "kernelspec": {
   "display_name": "Python 3 (ipykernel)",
   "language": "python",
   "name": "python3"
  },
  "language_info": {
   "codemirror_mode": {
    "name": "ipython",
    "version": 3
   },
   "file_extension": ".py",
   "mimetype": "text/x-python",
   "name": "python",
   "nbconvert_exporter": "python",
   "pygments_lexer": "ipython3",
   "version": "3.10.6"
  }
 },
 "nbformat": 4,
 "nbformat_minor": 5
}
