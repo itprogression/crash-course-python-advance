{
 "cells": [
  {
   "cell_type": "markdown",
   "id": "8784eaec",
   "metadata": {},
   "source": [
    "### Ejercicios:\n",
    "Ejercicio, Decoradores de funciones 1\n",
    "Escribe un decorador de función que compruebe si un usuario tiene permisos de administrador antes de ejecutar la función. Si el usuario no tiene permisos de administrador, el decorador debería imprimir un mensaje de error y salir sin ejecutar la función.\n",
    "\n",
    "Ejercicio, Decoradores de clases 1\n",
    "Ejercicio: Crea un decorador de clase que agregue un método a la clase decorada que imprima el nombre de la clase y la fecha actual.\n",
    "\n",
    "Ejercicio mix, Decoradores de funciones y clases 1\n",
    "Crea un sistema de autenticación para un sitio web utilizando decoradores en Python. \n",
    "Deberás crear una clase \"User\" con los siguientes métodos:\n",
    "  - \"view_profile\": muestra el perfil del usuario, pero solo puede ser accedido si el usuario ha iniciado sesión.\n",
    "  - \"edit_profile\": permite editar el perfil del usuario, pero solo puede ser accedido si el usuario ha iniciado sesión.\n",
    "  - \"login\": permite al usuario iniciar sesión. Recibe como argumentos el nombre de usuario y la contraseña.\n",
    "  - \"logout\": permite al usuario cerrar sesión.\n",
    "Utiliza el decorador \"login_required\" para asegurarte de que los métodos \"view_profile\" y \"edit_profile\" solo puedan ser accedidos si el usuario ha iniciado sesión.\n",
    "Utiliza el decorador de clase \"add_auth_methods\" para agregar los métodos de autenticación \"login\" y \"logout\" a la clase \"User\".\n",
    "\n",
    "Comprueba que el sistema funciona correctamente creando un objeto \"User\" y probando los diferentes métodos."
   ]
  },
  {
   "cell_type": "code",
   "execution_count": null,
   "id": "9ab520db",
   "metadata": {},
   "outputs": [],
   "source": []
  }
 ],
 "metadata": {
  "kernelspec": {
   "display_name": "Python 3 (ipykernel)",
   "language": "python",
   "name": "python3"
  },
  "language_info": {
   "codemirror_mode": {
    "name": "ipython",
    "version": 3
   },
   "file_extension": ".py",
   "mimetype": "text/x-python",
   "name": "python",
   "nbconvert_exporter": "python",
   "pygments_lexer": "ipython3",
   "version": "3.10.6"
  }
 },
 "nbformat": 4,
 "nbformat_minor": 5
}
