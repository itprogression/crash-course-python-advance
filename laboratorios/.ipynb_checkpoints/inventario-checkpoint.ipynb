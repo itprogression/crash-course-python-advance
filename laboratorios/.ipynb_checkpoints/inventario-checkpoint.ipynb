{
 "cells": [
  {
   "cell_type": "code",
   "execution_count": 19,
   "id": "df4c8398",
   "metadata": {},
   "outputs": [
    {
     "name": "stdout",
     "output_type": "stream",
     "text": [
      "Reporte de inventario:  ChainMap({'tipo': 'juegos de mesa', 'productos': {'Ajedrez': {'cantidad': 10, 'marca': 'Hasbro', 'precio': 500, 'inventario': 100, 'ventas': 90}, 'Monopoly': {'cantidad': 15, 'marca': 'Hasbro', 'precio': 1000, 'inventario': 200, 'ventas': 185}, 'Risk': {'cantidad': 20, 'marca': 'Hasbro', 'precio': 300, 'inventario': 150, 'ventas': 130}}}, {'tipo': 'celulares', 'productos': {'Samsung Galaxy S21': {'cantidad': 10, 'marca': 'Samsung', 'precio': 500, 'inventario': 100, 'ventas': 90}, 'iPhone 13': {'cantidad': 15, 'marca': 'Apple', 'precio': 1000, 'inventario': 200, 'ventas': 185}, 'Xiaomi Mi 11': {'cantidad': 20, 'marca': 'Xiaomi', 'precio': 300, 'inventario': 150, 'ventas': 130}}}, {'tipo': 'libros', 'productos': {'El Quijote': {'cantidad': 10, 'autor': 'Miguel de Cervantes', 'precio': 50, 'inventario': 100, 'ventas': 90}, 'La Odisea': {'cantidad': 15, 'autor': 'Homero', 'precio': 20, 'inventario': 200, 'ventas': 185}, '1984': {'cantidad': 20, 'autor': 'George Orwell', 'precio': 30, 'inventario': 150, 'ventas': 130}}}, {'tipo': 'flores', 'productos': {'Rosas rojas': {'cantidad': 10, 'color': 'Rojo', 'precio': 10, 'inventario': 100, 'ventas': 90}, 'Lirios': {'cantidad': 15, 'color': 'Blanco', 'precio': 15, 'inventario': 200, 'ventas': 185}, 'Orquideas': {'cantidad': 20, 'color': 'Morado', 'precio': 20, 'inventario': 150, 'ventas': 130}}})\n"
     ]
    },
    {
     "ename": "NameError",
     "evalue": "name 'inventarios' is not defined",
     "output_type": "error",
     "traceback": [
      "\u001b[0;31m---------------------------------------------------------------------------\u001b[0m",
      "\u001b[0;31mNameError\u001b[0m                                 Traceback (most recent call last)",
      "Cell \u001b[0;32mIn[19], line 45\u001b[0m\n\u001b[1;32m     42\u001b[0m \u001b[38;5;28mprint\u001b[39m(\u001b[38;5;124m'\u001b[39m\u001b[38;5;124mReporte de inventario: \u001b[39m\u001b[38;5;124m'\u001b[39m, inventario)\n\u001b[1;32m     44\u001b[0m \u001b[38;5;66;03m# prueba la función de actualización del inventario\u001b[39;00m\n\u001b[0;32m---> 45\u001b[0m actualizar_inventario(\u001b[43minventarios\u001b[49m, \u001b[38;5;124m'\u001b[39m\u001b[38;5;124mjuegos de mesa\u001b[39m\u001b[38;5;124m'\u001b[39m, \u001b[38;5;124m'\u001b[39m\u001b[38;5;124mAjedrez\u001b[39m\u001b[38;5;124m'\u001b[39m, \u001b[38;5;241m5\u001b[39m)\n\u001b[1;32m     46\u001b[0m actualizar_inventario(\u001b[38;5;124m'\u001b[39m\u001b[38;5;124mRisk\u001b[39m\u001b[38;5;124m'\u001b[39m, \u001b[38;5;241m-\u001b[39m\u001b[38;5;241m2\u001b[39m)  \u001b[38;5;66;03m# resta 2 unidades del juego1\u001b[39;00m\n\u001b[1;32m     47\u001b[0m actualizar_inventario(\u001b[38;5;124m'\u001b[39m\u001b[38;5;124mMonopoly\u001b[39m\u001b[38;5;124m'\u001b[39m, \u001b[38;5;241m5\u001b[39m)  \u001b[38;5;66;03m# agrega 5 unidades del celular2\u001b[39;00m\n",
      "\u001b[0;31mNameError\u001b[0m: name 'inventarios' is not defined"
     ]
    }
   ],
   "source": [
    "# ejercicio: ChainMap con json\n",
    "import json\n",
    "from collections import ChainMap\n",
    "\n",
    "\n",
    "# lee los archivos JSON y convierte su contenido en diccionarios\n",
    "def leer_inventario_json(nombre_archivo):\n",
    "    with open(nombre_archivo) as f:\n",
    "        inventario = json.load(f)\n",
    "    return inventario\n",
    "\n",
    "# crea un ChainMap a partir de los diccionarios de los archivos JSON\n",
    "inventario_juegos_mesa = leer_inventario_json('inv_juegos_mesa.json')\n",
    "inventario_celulares = leer_inventario_json('inv_celulares.json')\n",
    "inventario_libros = leer_inventario_json('inv_libros.json')\n",
    "inventario_flores = leer_inventario_json('inv_flores.json')\n",
    "inventario = ChainMap(inventario_juegos_mesa, inventario_celulares, inventario_libros, inventario_flores)\n",
    "\n",
    "# actualiza el inventario de un producto\n",
    "def actualizar_inventario(inventarios, tipo_producto, nombre_producto, cantidad):\n",
    "    \"\"\"\n",
    "    Actualiza la cantidad de un producto en todos los inventarios\n",
    "    \"\"\"\n",
    "    for inventario in inventarios:\n",
    "        if inventario['tipo'] == tipo_producto and nombre_producto in inventario['productos']:\n",
    "            inventario['productos'][nombre_producto]['cantidad'] += cantidad\n",
    "    \n",
    "    inventarios_merged = ChainMap(*inventarios)\n",
    "    \n",
    "    with open('inventario_total.json', 'w') as f:\n",
    "        json.dump(dict(inventarios_merged), f, indent=4)\n",
    "\n",
    "\n",
    "\n",
    "def register_sale(product_name, quantity):\n",
    "    if product_name in inventory:\n",
    "        inventory[product_name][\"inventario\"] -= quantity\n",
    "        inventory[product_name][\"ventas\"] += quantity\n",
    "        with open(product_name + \".json\", \"w\") as f:\n",
    "            json.dump\n",
    "\n",
    "print('Reporte de inventario: ', inventario)\n",
    "\n",
    "# prueba la función de actualización del inventario\n",
    "actualizar_inventario(inventarios, 'juegos de mesa', 'Ajedrez', 5)\n",
    "actualizar_inventario('Risk', -2)  # resta 2 unidades del juego1\n",
    "actualizar_inventario('Monopoly', 5)  # agrega 5 unidades del celular2\n",
    "\n",
    "# Registrar una nueva venta de libros\n",
    "register_sale(\"libros\", 5)\n",
    "\n",
    "print(inventory)\n"
   ]
  },
  {
   "cell_type": "code",
   "execution_count": null,
   "id": "8d71fac5",
   "metadata": {},
   "outputs": [],
   "source": []
  }
 ],
 "metadata": {
  "kernelspec": {
   "display_name": "Python 3 (ipykernel)",
   "language": "python",
   "name": "python3"
  },
  "language_info": {
   "codemirror_mode": {
    "name": "ipython",
    "version": 3
   },
   "file_extension": ".py",
   "mimetype": "text/x-python",
   "name": "python",
   "nbconvert_exporter": "python",
   "pygments_lexer": "ipython3",
   "version": "3.10.6"
  }
 },
 "nbformat": 4,
 "nbformat_minor": 5
}
