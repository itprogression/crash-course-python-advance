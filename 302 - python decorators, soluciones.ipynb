{
 "cells": [
  {
   "cell_type": "code",
   "execution_count": 7,
   "id": "6dbe1926",
   "metadata": {},
   "outputs": [
    {
     "name": "stdout",
     "output_type": "stream",
     "text": [
      "Error: Acceso denegado.\n",
      "Acceso permitido\n"
     ]
    }
   ],
   "source": [
    "# Ejercicio, Decoradores de funciones 1\n",
    "\n",
    "class User:\n",
    "    def __init__(self, is_admin=False):\n",
    "        self.is_admin = is_admin\n",
    "        \n",
    "def admin_required(func):\n",
    "    def wrapper(user, *args, **kwargs):\n",
    "        if user.is_admin:\n",
    "            return func(*args, **kwargs)\n",
    "        else:\n",
    "            print(\"Error: Acceso denegado.\")\n",
    "    return wrapper\n",
    "\n",
    "@admin_required\n",
    "def mi_funcion():\n",
    "    print(\"Acceso permitido\")\n",
    "\n",
    "# Crear un usuario sin permisos de administrador\n",
    "user1 = User(is_admin=False)\n",
    "mi_funcion(user1) # Debería imprimir \"Error: Acceso denegado.\"\n",
    "\n",
    "# Crear un usuario con permisos de administrador\n",
    "user2 = User(is_admin=True)\n",
    "mi_funcion(user2) # Debería imprimir \"Acceso permitido\"\n",
    "\n"
   ]
  },
  {
   "cell_type": "code",
   "execution_count": 10,
   "id": "0ea09240",
   "metadata": {},
   "outputs": [
    {
     "name": "stdout",
     "output_type": "stream",
     "text": [
      "Timestamp: 2023-04-21 03:30:34.710366\n"
     ]
    }
   ],
   "source": [
    "# Ejercicio, Decoradores de clases 1\n",
    "\n",
    "import datetime\n",
    "\n",
    "def add_timestamp(cls):\n",
    "    class NewClass(cls):\n",
    "        def print_timestamp(self):\n",
    "            print(f\"Timestamp: {datetime.datetime.now()}\")\n",
    "    return NewClass\n",
    "\n",
    "@add_timestamp\n",
    "class MyClass:\n",
    "    def __init__(self, x, y):\n",
    "        self.x = x\n",
    "        self.y = y\n",
    "\n",
    "obj = MyClass(1, 2)\n",
    "obj.print_timestamp()  # Output: Timestamp: 2023-04-26 16:15:43.473892\n"
   ]
  },
  {
   "cell_type": "code",
   "execution_count": 13,
   "id": "e7192526",
   "metadata": {},
   "outputs": [
    {
     "name": "stdout",
     "output_type": "stream",
     "text": [
      "Error: Debes iniciar sesión para acceder a esta página\n",
      "¡Inicio de sesión exitoso!\n",
      "Error: Debes iniciar sesión para acceder a esta página\n",
      "Error: Nombre de usuario o contraseña incorrectos\n",
      "¡Cierre de sesión exitoso!\n",
      "Error: Debes iniciar sesión para acceder a esta página\n"
     ]
    }
   ],
   "source": [
    "# Ejercicio mix, Decoradores de funciones y clases 1\n",
    "\n",
    "from functools import wraps\n",
    "\n",
    "# Decorador de función para verificar si el usuario está autenticado\n",
    "def login_required(func):\n",
    "    @wraps(func)\n",
    "    def wrapper(*args, **kwargs):\n",
    "        if kwargs.get('user_logged_in'):\n",
    "            return func(*args, **kwargs)\n",
    "        else:\n",
    "            return \"Error: Debes iniciar sesión para acceder a esta página\"\n",
    "    return wrapper\n",
    "\n",
    "# Decorador de clase para agregar métodos de autenticación\n",
    "def add_auth_methods(cls):\n",
    "    class AuthMethods(cls):\n",
    "        def login(self, username, password):\n",
    "            if username == self.username and password == self.password:\n",
    "                self.user_logged_in = True\n",
    "                return \"¡Inicio de sesión exitoso!\"\n",
    "            else:\n",
    "                return \"Error: Nombre de usuario o contraseña incorrectos\"\n",
    "        \n",
    "        def logout(self):\n",
    "            self.user_logged_in = False\n",
    "            return \"¡Cierre de sesión exitoso!\"\n",
    "    \n",
    "    return AuthMethods\n",
    "\n",
    "# Clase de usuario\n",
    "@add_auth_methods\n",
    "class User:\n",
    "    def __init__(self, username, password):\n",
    "        self.username = username\n",
    "        self.password = password\n",
    "        self.user_logged_in = False\n",
    "    \n",
    "    # Método decorado con login_required\n",
    "    @login_required\n",
    "    def view_profile(self):\n",
    "        return f\"Bienvenido/a, {self.username}\"\n",
    "    \n",
    "    # Método decorado con login_required\n",
    "    @login_required\n",
    "    def edit_profile(self, name):\n",
    "        self.username = name\n",
    "        return \"Perfil actualizado con éxito\"\n",
    "        \n",
    "# Creamos un usuario\n",
    "user1 = User('usuario1', 'password123')\n",
    "\n",
    "# Intentamos acceder a su perfil sin iniciar sesión\n",
    "print(user1.view_profile()) # Error: Debes iniciar sesión para acceder a esta página\n",
    "\n",
    "# Iniciamos sesión con credenciales correctas\n",
    "print(user1.login('usuario1', 'password123')) # ¡Inicio de sesión exitoso!\n",
    "\n",
    "# Intentamos acceder al perfil nuevamente\n",
    "print(user1.view_profile()) # Bienvenido/a, usuario1\n",
    "\n",
    "# Intentamos acceder al perfil nuevamente pero con credenciales incorrectas\n",
    "print(user1.login('usuario1', '123456')) # Error: Nombre de usuario o contraseña incorrectos\n",
    "\n",
    "# Cerramos sesión\n",
    "print(user1.logout()) # ¡Cierre de sesión exitoso!\n",
    "\n",
    "# Intentamos acceder al perfil nuevamente después de cerrar sesión\n",
    "print(user1.view_profile()) # Error: Debes iniciar sesión para acceder a esta página\n"
   ]
  },
  {
   "cell_type": "code",
   "execution_count": null,
   "id": "4e0d20e0",
   "metadata": {},
   "outputs": [],
   "source": []
  }
 ],
 "metadata": {
  "kernelspec": {
   "display_name": "Python 3 (ipykernel)",
   "language": "python",
   "name": "python3"
  },
  "language_info": {
   "codemirror_mode": {
    "name": "ipython",
    "version": 3
   },
   "file_extension": ".py",
   "mimetype": "text/x-python",
   "name": "python",
   "nbconvert_exporter": "python",
   "pygments_lexer": "ipython3",
   "version": "3.10.6"
  }
 },
 "nbformat": 4,
 "nbformat_minor": 5
}
