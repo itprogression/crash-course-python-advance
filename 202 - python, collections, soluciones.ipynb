{
 "cells": [
  {
   "cell_type": "code",
   "execution_count": 37,
   "id": "dcab3e5e",
   "metadata": {},
   "outputs": [
    {
     "name": "stdout",
     "output_type": "stream",
     "text": [
      "deque([10, 20, 30, 40, 50])\n"
     ]
    }
   ],
   "source": [
    "# ejercicio: deque 1\n",
    "\n",
    "from collections import deque\n",
    "\n",
    "# Crear una cola vacía\n",
    "cola = deque()\n",
    "\n",
    "# Añadir elementos a la cola\n",
    "cola.append(10)\n",
    "cola.append(20)\n",
    "cola.append(30)\n",
    "cola.append(40)\n",
    "cola.append(50)\n",
    "\n",
    "# Imprimir la cola\n",
    "print(cola)"
   ]
  },
  {
   "cell_type": "code",
   "execution_count": null,
   "id": "452a3610",
   "metadata": {},
   "outputs": [],
   "source": [
    "# ejercicio: deque 2\n",
    "\n",
    "from collections import deque\n",
    "\n",
    "# Crear una cola\n",
    "cola = deque([10, 20, 30, 40, 50])\n",
    "\n",
    "# Eliminar los dos primeros elementos de la cola\n",
    "cola.popleft()\n",
    "cola.popleft()\n",
    "\n",
    "# Imprimir la cola\n",
    "print(cola)\n"
   ]
  },
  {
   "cell_type": "code",
   "execution_count": null,
   "id": "4ae13cdd",
   "metadata": {},
   "outputs": [],
   "source": [
    "# ejercicio: deque 3\n",
    "\n",
    "from collections import deque\n",
    "\n",
    "# Crear una cola\n",
    "cola = deque([10, 20, 30, 40, 50])\n",
    "\n",
    "# Iterar la cola e imprimir cada elemento\n",
    "for elemento in cola:\n",
    "    print(elemento)\n"
   ]
  },
  {
   "cell_type": "code",
   "execution_count": null,
   "id": "1f64e5fb",
   "metadata": {},
   "outputs": [],
   "source": [
    "# ejercicio: deque 4\n",
    "\n",
    "from collections import deque\n",
    "\n",
    "# Crear las dos colas\n",
    "cola1 = deque([10, 20, 30])\n",
    "cola2 = deque([40, 50, 60])\n",
    "\n",
    "# Extender la primera cola con los elementos de la segunda cola\n",
    "cola1.extend(cola2)\n",
    "\n",
    "# Imprimir la primera cola\n",
    "print(cola1)\n"
   ]
  },
  {
   "cell_type": "code",
   "execution_count": null,
   "id": "791550bb",
   "metadata": {},
   "outputs": [],
   "source": [
    "# ejercicio: deque 5\n",
    "\n",
    "from collections import deque\n",
    "\n",
    "# Crear una cola\n",
    "cola = deque([10, 20, 30, 40, 50])\n",
    "\n",
    "# Girar la cola 3 veces hacia la izquierda\n",
    "cola.rotate(-3)\n",
    "\n",
    "# Girar la cola 2 veces hacia la derecha\n",
    "cola.rotate(2)\n",
    "\n",
    "# Imprimir la cola\n",
    "print(cola)\n"
   ]
  },
  {
   "cell_type": "code",
   "execution_count": 1,
   "id": "265f32df",
   "metadata": {},
   "outputs": [
    {
     "name": "stdout",
     "output_type": "stream",
     "text": [
      "Cantidad de juegos de mesa Monopoly: 8\n",
      "Cantidad de celulares Samsung: 6\n",
      "Cantidad de libros 1984: 8\n",
      "Cantidad de flores Margaritas: 10\n",
      "Nueva cantidad de juegos de mesa Monopoly: 10\n",
      "Cantidad de tulipanes: 7\n"
     ]
    }
   ],
   "source": [
    "# ejercicio: ChainMap con diccionario\n",
    "from collections import ChainMap\n",
    "\n",
    "# Diccionarios de inventario\n",
    "juegos = {\"Catan\": 5, \"Monopoly\": 8, \"Risk\": 3}\n",
    "celulares = {\"iPhone\": 10, \"Samsung\": 6, \"Xiaomi\": 12}\n",
    "libros = {\"El Quijote\": 2, \"Cien años de soledad\": 6, \"1984\": 8}\n",
    "flores = {\"Rosas\": 12, \"Lirios\": 5, \"Margaritas\": 10}\n",
    "\n",
    "# Crear el ChainMap del inventario\n",
    "inventario = ChainMap(juegos, celulares, libros, flores)\n",
    "\n",
    "# Reportar la cantidad de algunos artículos\n",
    "print(\"Cantidad de juegos de mesa Monopoly:\", inventario[\"Monopoly\"])\n",
    "print(\"Cantidad de celulares Samsung:\", inventario[\"Samsung\"])\n",
    "print(\"Cantidad de libros 1984:\", inventario[\"1984\"])\n",
    "print(\"Cantidad de flores Margaritas:\", inventario[\"Margaritas\"])\n",
    "\n",
    "# Actualizar la cantidad de un artículo\n",
    "inventario[\"Monopoly\"] = 10\n",
    "print(\"Nueva cantidad de juegos de mesa Monopoly:\", inventario[\"Monopoly\"])\n",
    "\n",
    "# Agregar un nuevo artículo\n",
    "inventario[\"Tulipanes\"] = 7\n",
    "print(\"Cantidad de tulipanes:\", inventario[\"Tulipanes\"])\n"
   ]
  },
  {
   "cell_type": "code",
   "execution_count": 40,
   "id": "420f00bc",
   "metadata": {},
   "outputs": [
    {
     "name": "stdout",
     "output_type": "stream",
     "text": [
      "Counter({'a': 3, 'b': 2, 'c': 1, 'd': 1})\n"
     ]
    }
   ],
   "source": [
    "# ejercicio: Counter # 1\n",
    "\n",
    "from collections import Counter\n",
    "\n",
    "def contar_elementos(lista):\n",
    "    return Counter(lista)\n",
    "\n",
    "# Prueba\n",
    "lista = ['a', 'b', 'c', 'a', 'b', 'a', 'd']\n",
    "print(contar_elementos(lista))\n",
    "# {'a': 3, 'b': 2, 'c': 1, 'd': 1}\n"
   ]
  },
  {
   "cell_type": "code",
   "execution_count": 41,
   "id": "f6ffd961",
   "metadata": {},
   "outputs": [
    {
     "name": "stdout",
     "output_type": "stream",
     "text": [
      "Counter({'El': 1, 'sol': 1, 'es': 1, 'un': 1, 'objeto': 1, 'esférico': 1, 'y': 1, 'caliente.': 1, 'La': 1, 'Tierra': 1, 'gira': 1, 'alrededor': 1, 'del': 1, 'sol.': 1})\n"
     ]
    }
   ],
   "source": [
    "# ejercicio: Counter # 2\n",
    "\n",
    "from collections import Counter\n",
    "\n",
    "def contar_palabras(cadena):\n",
    "    palabras = cadena.split()\n",
    "    return Counter(palabras)\n",
    "\n",
    "# Prueba\n",
    "cadena = \"El sol es un objeto esférico y caliente. La Tierra gira alrededor del sol.\"\n",
    "print(contar_palabras(cadena))\n",
    "# {'El': 1, 'sol': 1, 'es': 2, 'un': 1, 'objeto': 1, 'esférico': 1, 'y': 1, 'caliente.': 1, 'La': 1, 'Tierra': 1, 'gira': 1, 'alrededor': 1, 'del': 1}\n"
   ]
  },
  {
   "cell_type": "code",
   "execution_count": 15,
   "id": "5af8a853",
   "metadata": {},
   "outputs": [
    {
     "name": "stdout",
     "output_type": "stream",
     "text": [
      "  14\n",
      ". 2\n",
      "A 1\n",
      "D 1\n",
      "M 1\n",
      "a 6\n",
      "c 3\n",
      "d 9\n",
      "e 9\n",
      "g 1\n",
      "i 1\n",
      "j 1\n",
      "l 3\n",
      "n 6\n",
      "o 7\n",
      "p 1\n",
      "r 1\n",
      "s 2\n",
      "t 3\n",
      "u 2\n",
      "| 1\n"
     ]
    }
   ],
   "source": [
    "# ejercicio: OrderedDict # 1\n",
    "\n",
    "from collections import OrderedDict\n",
    "\n",
    "def count_letters(string):\n",
    "    # Creamos un diccionario vacío\n",
    "    d = OrderedDict()\n",
    "    # Contamos las letras\n",
    "    for letter in string:\n",
    "        if letter in d:\n",
    "            d[letter] += 1\n",
    "        else:\n",
    "            d[letter] = 1\n",
    "    # Imprimimos el resultado en orden alfabético\n",
    "    for letter in sorted(d):\n",
    "        print(letter, d[letter])\n",
    "        \n",
    "# Ejemplo de uso\n",
    "count_letters(\"De la conducta de cada uno depende el destino de todos. | Alejandro Magno. \")\n",
    "\n"
   ]
  },
  {
   "cell_type": "code",
   "execution_count": 8,
   "id": "9dadf2b2",
   "metadata": {},
   "outputs": [
    {
     "name": "stdout",
     "output_type": "stream",
     "text": [
      "Alice 25\n",
      "Bob 20\n",
      "Charlie 30\n",
      "David 35\n"
     ]
    }
   ],
   "source": [
    "# ejercicio: OrderedDict # 2\n",
    "\n",
    "from collections import OrderedDict\n",
    "\n",
    "people = [(\"Alice\", 25), (\"Bob\", 20), (\"Charlie\", 30), (\"David\", 35)]\n",
    "\n",
    "people_dict = OrderedDict(sorted(dict(people).items()))\n",
    "\n",
    "for name, age in people_dict.items():\n",
    "    print(name, age)\n"
   ]
  },
  {
   "cell_type": "code",
   "execution_count": 17,
   "id": "31dea774",
   "metadata": {},
   "outputs": [
    {
     "name": "stdout",
     "output_type": "stream",
     "text": [
      "b\n",
      "c\n"
     ]
    }
   ],
   "source": [
    "# ejercicio: OrderedDict # 3\n",
    "\n",
    "from collections import OrderedDict\n",
    "\n",
    "def common_elements(d1, d2):\n",
    "    # Obtenemos las claves comunes\n",
    "    common_keys = set(d1.keys()) & set(d2.keys())\n",
    "    # Creamos un OrderedDict con los elementos comunes\n",
    "    d_common = OrderedDict()\n",
    "    for key in sorted(common_keys):\n",
    "        d_common[key] = d1[key]\n",
    "    # Devolvemos el nuevo diccionario\n",
    "    return d_common\n",
    "\n",
    "# Ejemplo de uso\n",
    "d1 = {\"a\": 1, \"b\": 2, \"c\": 3}\n",
    "d2 = {\"b\": 5, \"c\": 4, \"d\": 6}\n",
    "d_common = common_elements(d1, d2)\n",
    "for key in d_common:\n",
    "    print(key)\n"
   ]
  },
  {
   "cell_type": "code",
   "execution_count": 23,
   "id": "8899cb76",
   "metadata": {},
   "outputs": [
    {
     "name": "stdout",
     "output_type": "stream",
     "text": [
      "a\n",
      "c\n",
      "b\n",
      "z\n"
     ]
    }
   ],
   "source": [
    "# ejercicio: OrderedDict # 4\n",
    "\n",
    "from collections import OrderedDict\n",
    "\n",
    "milista = [\"a\", \"c\", \"c\", \"a\", \"b\", \"a\", \"a\", \"b\", \"c\", \"z\"]\n",
    "n = 15 # número de claves más comunes que se desean imprimir\n",
    "\n",
    "# Paso 1: crear un OrderedDict vacío\n",
    "d = OrderedDict()\n",
    "\n",
    "# Paso 2: agregar cada elemento de la lista como clave con valor 0\n",
    "for item in milista:\n",
    "    d[item] = 0\n",
    "\n",
    "# Paso 3: aumentar el valor de la clave correspondiente en 1 cada vez que se encuentra el elemento en la lista\n",
    "for item in milista:\n",
    "    d[item] += 1\n",
    "\n",
    "# Paso 4: ordenar el OrderedDict por valor en orden descendente\n",
    "sorted_d = OrderedDict(sorted(d.items(), key=lambda x: x[1], reverse=True))\n",
    "\n",
    "# Paso 5: imprimir las claves de las n entradas más altas\n",
    "for i, key in enumerate(sorted_d.keys()):\n",
    "    if i < n:\n",
    "        print(key)\n",
    "    else:\n",
    "        break\n"
   ]
  },
  {
   "cell_type": "code",
   "execution_count": 27,
   "id": "82311158",
   "metadata": {},
   "outputs": [
    {
     "name": "stdout",
     "output_type": "stream",
     "text": [
      "236908.8\n"
     ]
    }
   ],
   "source": [
    "# ejercicio: Enum # 1\n",
    "\n",
    "from enum import Enum\n",
    "\n",
    "class Moneda(Enum):\n",
    "    USD = 1\n",
    "    EUR = 2\n",
    "    GBP = 3\n",
    "    JPY = 4\n",
    "    ARG = 5\n",
    "\n",
    "def convertir_moneda(valor: float, moneda_origen: Moneda, moneda_destino: Moneda) -> float:\n",
    "    if moneda_origen == Moneda.USD:\n",
    "        if moneda_destino == Moneda.EUR:\n",
    "            return valor * 0.82\n",
    "        elif moneda_destino == Moneda.GBP:\n",
    "            return valor * 0.72\n",
    "        elif moneda_destino == Moneda.JPY:\n",
    "            return valor * 108.92\n",
    "        elif moneda_destino == Moneda.ARG:\n",
    "            return valor * 432.00\n",
    "        else:\n",
    "            return valor\n",
    "    elif moneda_origen == Moneda.EUR:\n",
    "        if moneda_destino == Moneda.USD:\n",
    "            return valor * 1.22\n",
    "        elif moneda_destino == Moneda.GBP:\n",
    "            return valor * 0.87\n",
    "        elif moneda_destino == Moneda.JPY:\n",
    "            return valor * 131.69\n",
    "        elif moneda_destino == Moneda.ARG:\n",
    "            return valor * 1.0968 * 432.00\n",
    "        else:\n",
    "            return valor\n",
    "    elif moneda_origen == Moneda.GBP:\n",
    "        # Resto de la lógica\n",
    "        pass\n",
    "    # Resto de los casos\n",
    "\n",
    "print(convertir_moneda(500, Moneda.EUR, Moneda.ARG)) # 236908.8\n"
   ]
  },
  {
   "cell_type": "code",
   "execution_count": 34,
   "id": "aa4a63c3",
   "metadata": {},
   "outputs": [
    {
     "name": "stdout",
     "output_type": "stream",
     "text": [
      "JUEVES\n",
      "MARTES\n"
     ]
    }
   ],
   "source": [
    "# ejercicio: Enum # 2\n",
    "\n",
    "from enum import Enum\n",
    "from datetime import date\n",
    "\n",
    "class DiaSemana(Enum):\n",
    "    LUNES = 1\n",
    "    MARTES = 2\n",
    "    MIERCOLES = 3\n",
    "    JUEVES = 4\n",
    "    VIERNES = 5\n",
    "    SABADO = 6\n",
    "    DOMINGO = 7\n",
    "\n",
    "def obtener_dia_semana(fecha: date) -> str:\n",
    "    dia_semana = DiaSemana(fecha.isoweekday())\n",
    "    return dia_semana.name\n",
    "\n",
    "print(obtener_dia_semana(date(2022, 5, 12))) # JUEVES\n",
    "print(obtener_dia_semana(date(2023, 4, 25))) # MARTES\n",
    "\n",
    "# nota: def obtener_dia_semana(fecha: date) -> str:\n",
    "# (fecha: date) -> str:\n",
    "# En resumen, esta parte de la definición de la función es una anotación de tipo que se utiliza para especificar el tipo de entrada (argumentos) y salida (valor devuelto) que se espera de la función. Las anotaciones de tipo no afectan el comportamiento de la función en sí, pero pueden ser útiles para documentar y comprender mejor el código."
   ]
  },
  {
   "cell_type": "code",
   "execution_count": 36,
   "id": "46013f5d",
   "metadata": {},
   "outputs": [
    {
     "name": "stdout",
     "output_type": "stream",
     "text": [
      "BugStatus.NEW\n",
      "BugStatus.COMPLETED\n",
      "BugStatus.ON_HOLD\n"
     ]
    }
   ],
   "source": [
    "# ejercicio: Enum # 3\n",
    "\n",
    "from enum import Enum\n",
    "\n",
    "class BugStatus(Enum):\n",
    "    NEW = 'new'\n",
    "    IN_PROGRESS = 'in_progress'\n",
    "    COMPLETED = 'completed'\n",
    "    ON_HOLD = 'on_hold'\n",
    "    INVALID = 'invalid'\n",
    "\n",
    "class Bug:\n",
    "    def __init__(self, status: BugStatus):\n",
    "        self.status = status\n",
    "\n",
    "# Creamos varios objetos Bug\n",
    "bug1 = Bug(BugStatus.NEW)\n",
    "bug2 = Bug(BugStatus.COMPLETED)\n",
    "bug3 = Bug(BugStatus.ON_HOLD)\n",
    "\n",
    "# Accedemos al estado de cada objeto Bug\n",
    "print(bug1.status)\n",
    "print(bug2.status)\n",
    "print(bug3.status)\n"
   ]
  },
  {
   "cell_type": "code",
   "execution_count": null,
   "id": "dad27746",
   "metadata": {},
   "outputs": [],
   "source": []
  }
 ],
 "metadata": {
  "kernelspec": {
   "display_name": "Python 3 (ipykernel)",
   "language": "python",
   "name": "python3"
  },
  "language_info": {
   "codemirror_mode": {
    "name": "ipython",
    "version": 3
   },
   "file_extension": ".py",
   "mimetype": "text/x-python",
   "name": "python",
   "nbconvert_exporter": "python",
   "pygments_lexer": "ipython3",
   "version": "3.10.6"
  }
 },
 "nbformat": 4,
 "nbformat_minor": 5
}
