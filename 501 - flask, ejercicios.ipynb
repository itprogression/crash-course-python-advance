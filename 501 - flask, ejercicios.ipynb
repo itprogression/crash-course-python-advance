{
 "cells": [
  {
   "cell_type": "markdown",
   "id": "d155476e",
   "metadata": {},
   "source": [
    "Ejercicios\n",
    "1. Crea una API REST en Python con Flask que permita obtener y agregar información a una base de datos de productos.\n",
    "2. Crea una API REST en Python con Flask que permita la autenticación de usuarios mediante un sistema de tokens.\n",
    "3. Crea una API REST en Python con Flask que permita la integración de servicios de pago mediante diferentes proveedores.\n",
    "4. Crea una API REST en Python con Flask"
   ]
  },
  {
   "cell_type": "markdown",
   "id": "162b7baa",
   "metadata": {},
   "source": [
    "Ejercicio\n",
    "En este ejercicio, vamos a utilizar los objetos Request y Response para crear una API REST que acepte solicitudes GET y POST y devuelva una respuesta JSON.\n",
    "\n",
    "Crea un archivo Python llamado api.py.\n",
    "Importa las clases Flask y jsonify desde el módulo flask.\n",
    "Crea una instancia de la clase Flask llamada app.\n",
    "Crea una ruta /hello que acepte solicitudes GET y POST. Si se recibe una solicitud GET, la ruta debe devolver un mensaje de bienvenida en"
   ]
  },
  {
   "cell_type": "code",
   "execution_count": null,
   "id": "15a48bf7",
   "metadata": {},
   "outputs": [],
   "source": [
    "from flask import Flask, jsonify, request\n",
    "\n",
    "app = Flask(__name__)\n",
    "\n",
    "@app.route('/hello', methods=['GET', 'POST'])\n",
    "def hello():\n",
    "    if request.method == 'GET':\n",
    "        return jsonify({'message': 'Bienvenido a mi API REST!'})\n",
    "    elif request.method == 'POST':\n",
    "        data = request.get_json()\n",
    "        return jsonify({'message': f'Hola {data[\"name\"]}!'})\n",
    "\n",
    "if __name__ == '__main__':\n",
    "    app.run(debug=True)\n"
   ]
  },
  {
   "cell_type": "markdown",
   "id": "219c9702",
   "metadata": {},
   "source": [
    "Ejercicio\n",
    "En este ejercicio, vamos a crear una API REST que acepte solicitudes GET y POST y devuelva una respuesta JSON o XML, dependiendo de la solicitud."
   ]
  },
  {
   "cell_type": "code",
   "execution_count": null,
   "id": "27e48316",
   "metadata": {},
   "outputs": [],
   "source": [
    "from flask import Flask, jsonify, Response\n",
    "from xml.etree.ElementTree import Element, ElementTree, tostring\n",
    "\n",
    "app = Flask(__name__)\n",
    "\n",
    "@app.route('/hello', methods=['GET', 'POST'])\n",
    "def hello():\n",
    "    if request.method == 'GET':\n",
    "        data = {'message': 'Hello, World!'}\n",
    "        response = jsonify(data)\n",
    "        response.headers.add('Content-Type', 'application/json')\n",
    "        return response\n",
    "    elif request.method == 'POST':\n",
    "        data = {'message': 'Hello, World!'}\n",
    "        xml_data = Element('data')\n",
    "        message = Element('message')\n",
    "        message.text = data['message']\n",
    "        xml_data.append(message)\n",
    "        xml_string = tostring(xml_data)\n",
    "        response = Response(xml_string, content_type='application/xml')\n",
    "        return response\n",
    "\n",
    "if __name__ == '__main__':\n",
    "    app.run(debug=True)\n"
   ]
  }
 ],
 "metadata": {
  "kernelspec": {
   "display_name": "Python 3 (ipykernel)",
   "language": "python",
   "name": "python3"
  },
  "language_info": {
   "codemirror_mode": {
    "name": "ipython",
    "version": 3
   },
   "file_extension": ".py",
   "mimetype": "text/x-python",
   "name": "python",
   "nbconvert_exporter": "python",
   "pygments_lexer": "ipython3",
   "version": "3.10.6"
  }
 },
 "nbformat": 4,
 "nbformat_minor": 5
}
