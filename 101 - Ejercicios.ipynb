{
 "cells": [
  {
   "cell_type": "markdown",
   "id": "30a2938f",
   "metadata": {},
   "source": [
    "## Ejercicios:\n",
    "\n",
    "### virtualenvs\n",
    "\n",
    "1. Crear un entorno virtual usando el módulo 'virtualenvs' para python 3.8. Usa pyenv\n",
    "2. Crear un entorno virtual usando el módulo 'virtualenvs' para python 3.10. Usa pyenv\n",
    "3. Instalar un paquete en el entorno virtual python 3.10 usando 'pip'. Recuerda que el entorno este activo. Puedes tomar el nombre de algún paquete que nombramos en esta guía.\n",
    "4. Instalar un paquete con una versión específica en el entorno virtual python 3.10 usando 'pip'. Recuerda que el entorno este activo. Puedes tomar el nombre de algún paquete que nombramos en esta guía.\n",
    "5. Crear un archivo requirements.txt con los paquetes instalados en el entorno virtual.\n",
    "\n",
    "### Docker\n",
    "1. Crear un contenedor de Docker con una imagen de Python 3.1 y ejecutar un script de Python que imprima \"hello world\" en la terminal.\n",
    "2. Usar un archivo Dockerfile para construir una imagen personalizada de Python que incluya una librería adicional y ejecutar un script de Python que utilice dicha librería.\n",
    "3. Crear un contenedor de Docker con una imagen de Python y ejecutar un script de Python que interactúe con una API externa.\n"
   ]
  }
 ],
 "metadata": {
  "kernelspec": {
   "display_name": "Python 3 (ipykernel)",
   "language": "python",
   "name": "python3"
  },
  "language_info": {
   "codemirror_mode": {
    "name": "ipython",
    "version": 3
   },
   "file_extension": ".py",
   "mimetype": "text/x-python",
   "name": "python",
   "nbconvert_exporter": "python",
   "pygments_lexer": "ipython3",
   "version": "3.10.6"
  }
 },
 "nbformat": 4,
 "nbformat_minor": 5
}
