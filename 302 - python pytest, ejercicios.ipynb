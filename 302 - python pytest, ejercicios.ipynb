{
 "cells": [
  {
   "cell_type": "markdown",
   "id": "b0676c6a",
   "metadata": {},
   "source": [
    "# Ejercicios:\n",
    "\n",
    "1. Escribe un test que compruebe que la función suma devuelve el resultado esperado para dos números enteros positivos.\n",
    "2. Escribe un test que compruebe que la función division devuelve un error ZeroDivisionError cuando el segundo argumento es 0.\n",
    "3. Escribe un test que compruebe que la función ordenar_palabras devuelve una lista ordenada de palabras a partir de una lista desordenada.\n",
    "4. Escribe un test que compruebe que la función obtener_edad devuelve un valor numérico para una fecha de nacimiento válida.\n",
    "5. Escribe un test que compruebe que la función calcular_estadisticas devuelve una tupla con los valores mínimo, máximo y promedio a partir de una lista de números.\n"
   ]
  },
  {
   "cell_type": "code",
   "execution_count": null,
   "id": "8c26ccf3",
   "metadata": {},
   "outputs": [],
   "source": [
    "## Ejercicio 1:\n",
    "\n",
    "def suma(a, b):\n",
    "    return a + b\n",
    "\n",
    "def test_suma():\n",
    "    assert suma(2, 3) == 5\n",
    "    assert suma(0, 0) == 0\n",
    "    assert suma(-1, 1) == 0\n",
    "\n",
    "## Ejercicio 2:\n",
    "\n",
    "def division(a, b):\n",
    "    if b == 0:\n",
    "        raise ZeroDivisionError(\"No se puede dividir entre cero\")\n",
    "    return a / b\n",
    "\n",
    "def test_division():\n",
    "    with pytest.raises(ZeroDivisionError):\n",
    "        division(4, 0)\n",
    "    assert division(4, 2) == 2\n",
    "    assert division(10, 5) == 2\n",
    "\n",
    "## Ejercicio 3:\n",
    "def ordenar_palabras(lista):\n",
    "    return sorted(lista)\n",
    "\n",
    "def test_ordenar_palabras():\n",
    "    assert ordenar_palabras([\"hola\", \"adios\", \"bienvenido\"]) == [\"adios\", \"bienvenido\", \"hola\"]\n",
    "    assert ordenar_palabras([\"python\", \"java\", \"c++\"]) == [\"c++\", \"java\", \"python\"]\n",
    "\n",
    "\n",
    "\n",
    "## Ejercicio 4:\n",
    "import datetime\n",
    "\n",
    "def obtener_edad(fecha_nacimiento):\n",
    "    today = datetime.date.today()\n",
    "    edad = today.year - fecha_nacimiento.year - ((today.month, today.day) < (fecha_nacimiento.month, fecha_nacimiento.day))\n",
    "    return edad\n",
    "\n",
    "\n",
    "def test_obtener_edad():\n",
    "    assert obtener_edad(\"01/01/2000\") == 21\n",
    "    assert obtener_edad(\"12/07/1995\") == 26\n",
    "\n",
    "\n",
    "## Ejercicio 5:\n",
    "def calcular_estadisticas(lista):\n",
    "    if len(lista) == 0:\n",
    "        return None\n",
    "    else:\n",
    "        minimo = min(lista)\n",
    "        maximo = max(lista)\n",
    "        promedio = sum(lista) / len(lista)\n",
    "        return (minimo, maximo, promedio)\n",
    "\n",
    "def test_calcular_estadisticas():\n",
    "    assert calcular_estadisticas([1, 2, 3, 4, 5]) == (1, 5, 3)\n",
    "    assert calcular_estadisticas([0, 0, 0, 0, 0]) == (0, 0, 0)\n",
    "\n"
   ]
  }
 ],
 "metadata": {
  "kernelspec": {
   "display_name": "Python 3 (ipykernel)",
   "language": "python",
   "name": "python3"
  },
  "language_info": {
   "codemirror_mode": {
    "name": "ipython",
    "version": 3
   },
   "file_extension": ".py",
   "mimetype": "text/x-python",
   "name": "python",
   "nbconvert_exporter": "python",
   "pygments_lexer": "ipython3",
   "version": "3.10.6"
  }
 },
 "nbformat": 4,
 "nbformat_minor": 5
}
